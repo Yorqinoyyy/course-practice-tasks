{ 
  "cells": [
    {
      "cell_type": "markdown",
      "id": "bf79c78b",
      "metadata": {
        "id": "bf79c78b"
      },
      "source": [
        "#Data Sayns va Sunʼiy Intellekt Praktikum\n",
        "\n",
        "#NumPy kutubxonasi boʻyicha amaliy vazifa\n"
      ]
    },
    {
      "cell_type": "markdown",
      "id": "017db353",
      "metadata": {
        "id": "017db353"
      },
      "source": [
        "#### 1. NumPy kutubxonasini `np` nomi ostida yuklash va uni chop etish.\n",
        "\n",
        "Versiya va konfiguratsiyani tekshirish.\n"
      ]
    },
    {
      "cell_type": "markdown",
      "source": [
        "`💡Ishora` import … as` and `np.__version__, np.show_config"
      ],
      "metadata": {
        "id": "e28779fe"
      },
      "id": "e28779fe"
    },
    {
      "cell_type": "code",
      "source": [
        "import numpy as np\n"
      ],
      "metadata": {
        "id": "_pCbn1ieI3u9"
      },
      "id": "_pCbn1ieI3u9",
      "execution_count": 2,
      "outputs": []
    },
    {
      "cell_type": "markdown",
      "id": "46950f4f",
      "metadata": {
        "id": "46950f4f"
      },
      "source": [
        "#### 2. Raqamli qiymatlar roʻyxatini bir oʻlchovli NumPy massiviga aylantirish."
      ]
    },
    {
      "cell_type": "markdown",
      "source": [
        "`💡Ishora` numpy.array"
      ],
      "metadata": {
        "id": "9b0e875f"
      },
      "id": "9b0e875f"
    },
    {
      "cell_type": "code",
      "source": [
        "data = [1,2,3,4,5]\n",
        "arr = np.array(data)\n",
        "arr"
      ],
      "metadata": {
        "id": "dgnzjeT3JCi4",
        "outputId": "0ba48a4b-63c2-418a-87ce-4f1e328485de",
        "colab": {
          "base_uri": "https://localhost:8080/"
        }
      },
      "id": "dgnzjeT3JCi4",
      "execution_count": null,
      "outputs": [
        {
          "output_type": "execute_result",
          "data": {
            "text/plain": [
              "array([1, 2, 3, 4, 5])"
            ]
          },
          "metadata": {},
          "execution_count": 7
        }
      ]
    },
    {
      "cell_type": "markdown",
      "id": "e3c20b3d",
      "metadata": {
        "id": "e3c20b3d"
      },
      "source": [
        "#### 3. Qiymatlari noldan iborat boʻlgan toʻqqiz oʻlchovli massiv yaratish.\n",
        "\n"
      ]
    },
    {
      "cell_type": "markdown",
      "source": [
        "`💡Ishora` np.zeros"
      ],
      "metadata": {
        "id": "96d0b63e"
      },
      "id": "96d0b63e"
    },
    {
      "cell_type": "code",
      "source": [
        "arr2 = np.zeros((3,3))\n",
        "arr2"
      ],
      "metadata": {
        "id": "q8dV4pmHjY21",
        "outputId": "27f5ea36-d3ec-4e12-b761-311864c2dd96",
        "colab": {
          "base_uri": "https://localhost:8080/"
        }
      },
      "id": "q8dV4pmHjY21",
      "execution_count": null,
      "outputs": [
        {
          "output_type": "execute_result",
          "data": {
            "text/plain": [
              "array([[0., 0., 0.],\n",
              "       [0., 0., 0.],\n",
              "       [0., 0., 0.]])"
            ]
          },
          "metadata": {},
          "execution_count": 8
        }
      ]
    },
    {
      "cell_type": "markdown",
      "id": "b15a879f",
      "metadata": {
        "id": "b15a879f"
      },
      "source": [
        "#### 4. Massiv yaratish va uning xotira hajmini topish.\n",
        "\n"
      ]
    },
    {
      "cell_type": "markdown",
      "source": [
        "`💡Ishora` size, itemsize"
      ],
      "metadata": {
        "id": "32f9025c"
      },
      "id": "32f9025c"
    },
    {
      "cell_type": "code",
      "source": [
        "arr3 = np.arange(10)\n",
        "print(arr3.size)\n",
        "print(arr3.itemsize)\n"
      ],
      "metadata": {
        "id": "MZxcJM_oJOTs",
        "outputId": "b0e90810-12d8-44ef-ac95-1a05c6694f40",
        "colab": {
          "base_uri": "https://localhost:8080/"
        }
      },
      "id": "MZxcJM_oJOTs",
      "execution_count": null,
      "outputs": [
        {
          "output_type": "stream",
          "name": "stdout",
          "text": [
            "10\n",
            "8\n"
          ]
        }
      ]
    },
    {
      "cell_type": "markdown",
      "id": "0a708990",
      "metadata": {
        "id": "0a708990"
      },
      "source": [
        "#### 5. NumPy kutubxonasidagi `add` funksiyasi hujjatlarini buyruq satridan qanday olishi mumkin?\n"
      ]
    },
    {
      "cell_type": "markdown",
      "source": [
        "`💡Ishora` np.info"
      ],
      "metadata": {
        "id": "d254eea5"
      },
      "id": "d254eea5"
    },
    {
      "cell_type": "code",
      "source": [
        "import numpy as np\n",
        "help(np.add)"
      ],
      "metadata": {
        "id": "m7nA_vYsJVUi",
        "outputId": "3284142c-bf18-49a0-cba4-5e468c126159",
        "colab": {
          "base_uri": "https://localhost:8080/"
        }
      },
      "id": "m7nA_vYsJVUi",
      "execution_count": null,
      "outputs": [
        {
          "output_type": "stream",
          "name": "stdout",
          "text": [
            "Help on ufunc:\n",
            "\n",
            "add = <ufunc 'add'>\n",
            "    add(x1, x2, /, out=None, *, where=True, casting='same_kind', order='K', dtype=None, subok=True[, signature])\n",
            "    \n",
            "    Add arguments element-wise.\n",
            "    \n",
            "    Parameters\n",
            "    ----------\n",
            "    x1, x2 : array_like\n",
            "        The arrays to be added.\n",
            "        If ``x1.shape != x2.shape``, they must be broadcastable to a common\n",
            "        shape (which becomes the shape of the output).\n",
            "    out : ndarray, None, or tuple of ndarray and None, optional\n",
            "        A location into which the result is stored. If provided, it must have\n",
            "        a shape that the inputs broadcast to. If not provided or None,\n",
            "        a freshly-allocated array is returned. A tuple (possible only as a\n",
            "        keyword argument) must have length equal to the number of outputs.\n",
            "    where : array_like, optional\n",
            "        This condition is broadcast over the input. At locations where the\n",
            "        condition is True, the `out` array will be set to the ufunc result.\n",
            "        Elsewhere, the `out` array will retain its original value.\n",
            "        Note that if an uninitialized `out` array is created via the default\n",
            "        ``out=None``, locations within it where the condition is False will\n",
            "        remain uninitialized.\n",
            "    **kwargs\n",
            "        For other keyword-only arguments, see the\n",
            "        :ref:`ufunc docs <ufuncs.kwargs>`.\n",
            "    \n",
            "    Returns\n",
            "    -------\n",
            "    add : ndarray or scalar\n",
            "        The sum of `x1` and `x2`, element-wise.\n",
            "        This is a scalar if both `x1` and `x2` are scalars.\n",
            "    \n",
            "    Notes\n",
            "    -----\n",
            "    Equivalent to `x1` + `x2` in terms of array broadcasting.\n",
            "    \n",
            "    Examples\n",
            "    --------\n",
            "    >>> np.add(1.0, 4.0)\n",
            "    5.0\n",
            "    >>> x1 = np.arange(9.0).reshape((3, 3))\n",
            "    >>> x2 = np.arange(3.0)\n",
            "    >>> np.add(x1, x2)\n",
            "    array([[  0.,   2.,   4.],\n",
            "           [  3.,   5.,   7.],\n",
            "           [  6.,   8.,  10.]])\n",
            "    \n",
            "    The ``+`` operator can be used as a shorthand for ``np.add`` on ndarrays.\n",
            "    \n",
            "    >>> x1 = np.arange(9.0).reshape((3, 3))\n",
            "    >>> x2 = np.arange(3.0)\n",
            "    >>> x1 + x2\n",
            "    array([[ 0.,  2.,  4.],\n",
            "           [ 3.,  5.,  7.],\n",
            "           [ 6.,  8., 10.]])\n",
            "\n"
          ]
        }
      ]
    },
    {
      "cell_type": "code",
      "source": [
        "np.add?"
      ],
      "metadata": {
        "id": "TJK6Kmpmm-ue"
      },
      "id": "TJK6Kmpmm-ue",
      "execution_count": null,
      "outputs": []
    },
    {
      "cell_type": "code",
      "source": [
        "np.add??"
      ],
      "metadata": {
        "id": "-HKSwEXinNDK"
      },
      "id": "-HKSwEXinNDK",
      "execution_count": null,
      "outputs": []
    },
    {
      "cell_type": "markdown",
      "id": "0b16cd77",
      "metadata": {
        "id": "0b16cd77"
      },
      "source": [
        "#### 6. Shunday vekor yaratishki u oʻn ikki oʻlchamda va qiymatlari noldan iborat boʻlsin, lekin vektorning oltinchi qiymati 1 ga teng boʻlsin.\n",
        "\n"
      ]
    },
    {
      "cell_type": "markdown",
      "source": [
        "`💡Ishora` array[12]"
      ],
      "metadata": {
        "id": "05223560"
      },
      "id": "05223560"
    },
    {
      "cell_type": "code",
      "source": [
        "import numpy as np\n",
        "arr4 = np.zeros((3,4))\n",
        "arr4[1,1] = 1\n",
        "arr4"
      ],
      "metadata": {
        "id": "UJfYDNQoJc7M",
        "outputId": "8184d2e2-82b3-48e6-e262-273a5a99d0c1",
        "colab": {
          "base_uri": "https://localhost:8080/"
        }
      },
      "id": "UJfYDNQoJc7M",
      "execution_count": null,
      "outputs": [
        {
          "output_type": "execute_result",
          "data": {
            "text/plain": [
              "array([[0., 0., 0., 0.],\n",
              "       [0., 1., 0., 0.],\n",
              "       [0., 0., 0., 0.]])"
            ]
          },
          "metadata": {},
          "execution_count": 28
        }
      ]
    },
    {
      "cell_type": "markdown",
      "id": "782d4c77",
      "metadata": {
        "id": "782d4c77"
      },
      "source": [
        "#### 7. Qiymatlari 20 dan 59 gacha boʻlgan vektor yaratish.\n",
        "\n"
      ]
    },
    {
      "cell_type": "markdown",
      "source": [
        "`💡Ishora` arange"
      ],
      "metadata": {
        "id": "7250d114"
      },
      "id": "7250d114"
    },
    {
      "cell_type": "code",
      "source": [
        "arr5 = np.arange(20,59)\n",
        "arr5"
      ],
      "metadata": {
        "id": "fSaWkGakJhwz",
        "outputId": "351f99a1-cf88-41cc-a6f0-83b7bab47812",
        "colab": {
          "base_uri": "https://localhost:8080/"
        }
      },
      "id": "fSaWkGakJhwz",
      "execution_count": null,
      "outputs": [
        {
          "output_type": "execute_result",
          "data": {
            "text/plain": [
              "array([20, 21, 22, 23, 24, 25, 26, 27, 28, 29, 30, 31, 32, 33, 34, 35, 36,\n",
              "       37, 38, 39, 40, 41, 42, 43, 44, 45, 46, 47, 48, 49, 50, 51, 52, 53,\n",
              "       54, 55, 56, 57, 58])"
            ]
          },
          "metadata": {},
          "execution_count": 29
        }
      ]
    },
    {
      "cell_type": "markdown",
      "id": "48d48f01",
      "metadata": {
        "id": "48d48f01"
      },
      "source": [
        "#### 8. Vektor yarating va uni teskari oʻzgartirish, (birinchi element oxirgisi boʻladi)\n",
        "\n"
      ]
    },
    {
      "cell_type": "markdown",
      "source": [
        "`💡Ishora` array[::-1]"
      ],
      "metadata": {
        "id": "fb702ae0"
      },
      "id": "fb702ae0"
    },
    {
      "cell_type": "code",
      "source": [
        "import numpy as np\n",
        "arr6 = np.array([1,2,3,4,5])\n",
        "rev_arr = arr6[::-1]\n",
        "print(arr6)\n",
        "print(rev_arr)"
      ],
      "metadata": {
        "id": "GCP6vp_WJrON",
        "outputId": "f1181f24-ed8c-4fe5-8b48-b431d33aa787",
        "colab": {
          "base_uri": "https://localhost:8080/"
        }
      },
      "id": "GCP6vp_WJrON",
      "execution_count": null,
      "outputs": [
        {
          "output_type": "stream",
          "name": "stdout",
          "text": [
            "[1 2 3 4 5]\n",
            "[5 4 3 2 1]\n"
          ]
        }
      ]
    },
    {
      "cell_type": "markdown",
      "id": "4fa39382",
      "metadata": {
        "id": "4fa39382"
      },
      "source": [
        "#### 9. 12 dan 20 gacha boʻlgan qiymatlarga ega 3x3 matritsa yaratish.\n"
      ]
    },
    {
      "cell_type": "markdown",
      "source": [
        "`💡Ishora` reshape"
      ],
      "metadata": {
        "id": "97e6be92"
      },
      "id": "97e6be92"
    },
    {
      "cell_type": "code",
      "source": [
        "a = np.arange(12,21)\n",
        "b = a.reshape(3, 3)       # 3 qator, 3 ustun\n",
        "\n",
        "print( a)\n",
        "print( b)\n"
      ],
      "metadata": {
        "id": "Ve7gEGjuJxxw",
        "outputId": "a2922e6f-a468-465c-cea5-66450b5be170",
        "colab": {
          "base_uri": "https://localhost:8080/"
        }
      },
      "id": "Ve7gEGjuJxxw",
      "execution_count": null,
      "outputs": [
        {
          "output_type": "stream",
          "name": "stdout",
          "text": [
            "[12 13 14 15 16 17 18 19 20]\n",
            "[[12 13 14]\n",
            " [15 16 17]\n",
            " [18 19 20]]\n"
          ]
        }
      ]
    },
    {
      "cell_type": "markdown",
      "id": "da64551a",
      "metadata": {
        "id": "da64551a"
      },
      "source": [
        "#### 10. Quyidagi matritsadan foydalanib nolga teng boʻlmagan elementlarning indekslarini topish.\n",
        "[3, 7, 0, 0, 9, 0]\n",
        "\n",
        "\n",
        "\n"
      ]
    },
    {
      "cell_type": "markdown",
      "source": [
        "`💡Ishora` np.nonzero"
      ],
      "metadata": {
        "id": "322b2b68"
      },
      "id": "322b2b68"
    },
    {
      "cell_type": "code",
      "source": [
        "import numpy as np\n",
        "\n",
        "a = np.array([3, 7, 0, 0, 9, 0])\n",
        "zero_indices = np.where(a == 0)[0]\n",
        "\n",
        "print(zero_indices)"
      ],
      "metadata": {
        "id": "fNIuSyBaJ4OP",
        "outputId": "417abfbb-e656-48b4-a637-7b8eae8fded7",
        "colab": {
          "base_uri": "https://localhost:8080/"
        }
      },
      "id": "fNIuSyBaJ4OP",
      "execution_count": null,
      "outputs": [
        {
          "output_type": "stream",
          "name": "stdout",
          "text": [
            "[2 3 5]\n"
          ]
        }
      ]
    },
    {
      "cell_type": "markdown",
      "id": "f89d9c9e",
      "metadata": {
        "id": "f89d9c9e"
      },
      "source": [
        "#### 11. Tasodifiy qiymatlar bilan 2x2x2 oʻlchovidagi massiv yaratish.\n"
      ]
    },
    {
      "cell_type": "markdown",
      "source": [
        "`💡Ishora` np.random.random"
      ],
      "metadata": {
        "id": "5717e1c1"
      },
      "id": "5717e1c1"
    },
    {
      "cell_type": "code",
      "source": [
        "arrs = np.random.randn(2,2)\n",
        "arrs"
      ],
      "metadata": {
        "id": "bHloeqHOKuiX",
        "outputId": "71bfb7ac-86ce-4f2c-f1d2-e2dbd5aa326c",
        "colab": {
          "base_uri": "https://localhost:8080/"
        }
      },
      "id": "bHloeqHOKuiX",
      "execution_count": null,
      "outputs": [
        {
          "output_type": "execute_result",
          "data": {
            "text/plain": [
              "array([[-0.1934509 ,  1.27925819],\n",
              "       [-0.29426018, -0.15255387]])"
            ]
          },
          "metadata": {},
          "execution_count": 23
        }
      ]
    },
    {
      "cell_type": "markdown",
      "id": "13c5928c",
      "metadata": {
        "id": "13c5928c"
      },
      "source": [
        "#### 12. Tasodifiy sonlardan tashkil topgan 9X9 oʻlchamidagi massiv yaratish. Soʻng uning eng katta va eng kichik qiymatlarini topish.\n"
      ]
    },
    {
      "cell_type": "markdown",
      "source": [
        "`💡Ishora` min, max"
      ],
      "metadata": {
        "id": "0ede4d26"
      },
      "id": "0ede4d26"
    },
    {
      "cell_type": "code",
      "source": [
        "arr9 = np.random.randn(9,9)\n",
        "print(arr9)\n",
        "print(arr9.max())\n",
        "print(arr9.min())"
      ],
      "metadata": {
        "id": "OJiVa5K9LJyb",
        "outputId": "22a460d7-e846-4945-fee4-76bc55d914a9",
        "colab": {
          "base_uri": "https://localhost:8080/"
        }
      },
      "id": "OJiVa5K9LJyb",
      "execution_count": null,
      "outputs": [
        {
          "output_type": "stream",
          "name": "stdout",
          "text": [
            "[[-0.19091971 -0.44275125  0.3137879   0.02877039 -1.55311678 -0.2032847\n",
            "  -0.42940126 -0.77994534  0.01638374]\n",
            " [-1.0089337   2.03794333  0.79036214 -0.01429001 -0.27209225  0.32867858\n",
            "   0.28172319  0.60815583 -0.05635523]\n",
            " [-1.68615195 -0.42628157 -1.25223081  0.05351573  0.88030074 -1.72248708\n",
            "  -0.30202486 -1.62683123  0.35300817]\n",
            " [ 0.30818584 -0.87290962 -0.11929937  0.64801008 -1.24591189 -0.48282673\n",
            "  -0.07159646  0.98032448  0.46605543]\n",
            " [ 0.44858893  0.11185342  0.41634239 -0.09983958 -0.97240809  2.19788164\n",
            "  -0.15028275  0.80371959  0.79692922]\n",
            " [-1.03951556 -0.23971505 -0.53253689 -0.40739925 -0.1200513  -0.45586881\n",
            "   1.18908792 -2.02895153 -1.34266405]\n",
            " [-1.80015099 -0.208623    0.40999512  0.53046236  1.57887    -0.71195158\n",
            "  -1.33323824 -0.603198   -1.82133784]\n",
            " [ 0.44295107  0.7562335   2.0271685   0.9885621  -1.19283255 -0.73164042\n",
            "   0.61685667 -0.80840198  0.80417335]\n",
            " [ 0.10233129 -1.16475978  1.55559605 -1.62308055  0.24243916 -0.63737116\n",
            "  -0.31555789  0.43719744  0.48881347]]\n",
            "2.1978816441947955\n",
            "-2.0289515268257423\n"
          ]
        }
      ]
    },
    {
      "cell_type": "markdown",
      "id": "3fa2e461",
      "metadata": {
        "id": "3fa2e461"
      },
      "source": [
        "#### 13. Quyidagi misol qanday natija beradi?\n",
        "\n",
        "\n",
        "```python\n",
        "0 * np.nan\n",
        "np.nan == np.nan\n",
        "np.inf > np.nan\n",
        "np.nan - np.nan\n",
        "np.nan in set([np.nan])\n",
        "0.7 == 7 * 0.1\n",
        "```\n"
      ]
    },
    {
      "cell_type": "markdown",
      "source": [
        "`💡Ishora` NaN = not a number, inf = infinity"
      ],
      "metadata": {
        "id": "c0048e59"
      },
      "id": "c0048e59"
    },
    {
      "cell_type": "code",
      "source": [
        "True\n",
        "False\n",
        "nan\n",
        "Floating point xatoligi sabab False chiqadi\n",
        "NaN bilan hisoblash natijasi nan\n",
        "Tenglik har doim False, chunki NaN o‘ziga teng emas\n",
        "in operatori obyekt manzilini tekshiradi, shuning uchun True"
      ],
      "metadata": {
        "id": "Thbqd_RCLf_e"
      },
      "id": "Thbqd_RCLf_e",
      "execution_count": null,
      "outputs": []
    },
    {
      "cell_type": "markdown",
      "id": "73f7a549",
      "metadata": {
        "id": "73f7a549"
      },
      "source": [
        "#### 14. Oʻlchamlari 6x3 va 3x4 boʻlgan martitsa yaratish, soʻng ularning  koʻpaytmasini hisoblash.\n",
        "\n"
      ]
    },
    {
      "cell_type": "markdown",
      "source": [
        "`💡Ishora` np.dot` or `np.ones"
      ],
      "metadata": {
        "id": "351ff928"
      },
      "id": "351ff928"
    },
    {
      "cell_type": "code",
      "source": [
        "A = np.ones((6, 3))\n",
        "B = np.ones((3, 4))\n",
        "C = np.dot(A, B)\n",
        "print(\"A =\", A)\n",
        "print(\"B =\", B)\n",
        "print(\"C =\", C)"
      ],
      "metadata": {
        "id": "208WFa_Qqhci",
        "outputId": "2555f72e-55af-4668-ab3e-bd52d8d2f43d",
        "colab": {
          "base_uri": "https://localhost:8080/"
        }
      },
      "id": "208WFa_Qqhci",
      "execution_count": null,
      "outputs": [
        {
          "output_type": "stream",
          "name": "stdout",
          "text": [
            "A = [[1. 1. 1.]\n",
            " [1. 1. 1.]\n",
            " [1. 1. 1.]\n",
            " [1. 1. 1.]\n",
            " [1. 1. 1.]\n",
            " [1. 1. 1.]]\n",
            "B = [[1. 1. 1. 1.]\n",
            " [1. 1. 1. 1.]\n",
            " [1. 1. 1. 1.]]\n",
            "C = [[3. 3. 3. 3.]\n",
            " [3. 3. 3. 3.]\n",
            " [3. 3. 3. 3.]\n",
            " [3. 3. 3. 3.]\n",
            " [3. 3. 3. 3.]\n",
            " [3. 3. 3. 3.]]\n"
          ]
        }
      ]
    },
    {
      "cell_type": "markdown",
      "id": "6d0c506f",
      "metadata": {
        "id": "6d0c506f"
      },
      "source": [
        "#### 15. Quyidagi misol qanday natija beradi?\n",
        "\n",
        "```python\n",
        "print(sum(range(5),-1))\n",
        "from numpy import *\n",
        "print(sum(range(5),-1))\n",
        "```"
      ]
    },
    {
      "cell_type": "code",
      "source": [
        "print(sum(range(5), -1))  #→ 9  #sum(range(5), -1) → bu degani: 0+1+2+3+4 = 10, keyin + (-1) qo‘shiladi.\n",
        "# Built-in sum\n",
        "print(sum(range(5), -1))  #→ 10  # NumPy sum (axboriy o‘cham bo‘yicha yig‘adi)"
      ],
      "metadata": {
        "id": "x2ele5q_si7Y"
      },
      "id": "x2ele5q_si7Y",
      "execution_count": null,
      "outputs": []
    },
    {
      "cell_type": "markdown",
      "id": "d6ad1a9f",
      "metadata": {
        "id": "d6ad1a9f"
      },
      "source": [
        "#### 16. NumPy kutubxonasi yordamida ikkita massivni solishtirish va ular usida quyidagi amallarni bajarish.\n",
        "\n",
        "```python\n",
        "Array a: [1 2]\n",
        "Array b: [4 5]\n",
        "a > b\n",
        "[False False]\n",
        "a >= b\n",
        "[False False]\n",
        "a < b\n",
        "[ True True]\n",
        "a <= b\n",
        "[ True True]\n",
        "```"
      ]
    },
    {
      "cell_type": "code",
      "execution_count": null,
      "id": "7ba3c441",
      "metadata": {
        "id": "7ba3c441",
        "outputId": "8b32cee5-3822-45a3-9e52-364028120a7e",
        "colab": {
          "base_uri": "https://localhost:8080/"
        }
      },
      "outputs": [
        {
          "output_type": "stream",
          "name": "stdout",
          "text": [
            "Array a: [1 2]\n",
            "Array b: [4 5]\n",
            "a > b : [False False]\n",
            "a >= b: [False False]\n",
            "a < b : [ True  True]\n",
            "a <= b: [ True  True]\n"
          ]
        }
      ],
      "source": [
        "a = np.array([1, 2])\n",
        "b = np.array([4, 5])\n",
        "\n",
        "print(\"Array a:\", a)\n",
        "print(\"Array b:\", b)\n",
        "\n",
        "print(\"a > b :\", a > b)      # [False False]\n",
        "print(\"a >= b:\", a >= b)     # [False False]\n",
        "print(\"a < b :\", a < b)      # [ True  True]\n",
        "print(\"a <= b:\", a <= b)     # [ True  True]"
      ]
    },
    {
      "cell_type": "markdown",
      "id": "e3a7ba7f",
      "metadata": {
        "id": "e3a7ba7f"
      },
      "source": [
        "#### 17. Quyidagi misol qanday natija beradi?\n",
        "\n",
        "```python\n",
        "np.array(0) / np.array(0)\n",
        "np.array(0) // np.array(0)\n",
        "np.array([np.nan]).astype(int).astype(float)\n",
        "```"
      ]
    },
    {
      "cell_type": "code",
      "execution_count": null,
      "id": "b874734e",
      "metadata": {
        "id": "b874734e"
      },
      "outputs": [],
      "source": [
        "print(np.array(0) / np.array(0))        # NaN (0 bo‘linmoqda 0ga — matematik jihatdan aniqlanmagan)\n",
        "print(np.array(0) // np.array(0))       # Warning + 0 (Integer bo‘linma — 0ga bo‘lish xatolik beradi)\n",
        "print(np.array([np.nan]).astype(int).astype(float))  # np.nan ni int ga o‘girganda u katta manfiy son (-9223372036854775808) ga aylanadi, so‘ng float ko‘rinishida chiqariladi."
      ]
    },
    {
      "cell_type": "markdown",
      "id": "6d17ab5d",
      "metadata": {
        "id": "6d17ab5d"
      },
      "source": [
        "#### 18. Ikkita massiv yaratish va ular orasidagi umumiy qiymatlarni topish.\n"
      ]
    },
    {
      "cell_type": "markdown",
      "source": [],
      "metadata": {
        "id": "obItFDDTvKFI"
      },
      "id": "obItFDDTvKFI"
    },
    {
      "cell_type": "markdown",
      "source": [
        "`💡Ishora` np.intersect1d"
      ],
      "metadata": {
        "id": "4c4e2c5e"
      },
      "id": "4c4e2c5e"
    },
    {
      "cell_type": "code",
      "source": [
        "a = np.array([1, 2, 3, 4])\n",
        "b = np.array([3, 4, 5, 6])\n",
        "\n",
        "common = np.intersect1d(a, b)\n",
        "\n",
        "print(\"Array a:\", a)\n",
        "print(\"Array b:\", b)\n",
        "print(\"Umumiy elementlar:\", common)"
      ],
      "metadata": {
        "id": "Dxz5P8WpMeAP",
        "outputId": "4fcc1f29-4e64-45b9-931c-df7aa4b125c9",
        "colab": {
          "base_uri": "https://localhost:8080/"
        }
      },
      "id": "Dxz5P8WpMeAP",
      "execution_count": null,
      "outputs": [
        {
          "output_type": "stream",
          "name": "stdout",
          "text": [
            "Array a: [1 2 3 4]\n",
            "Array b: [3 4 5 6]\n",
            "Umumiy elementlar: [3 4]\n"
          ]
        }
      ]
    },
    {
      "cell_type": "markdown",
      "id": "8837119b",
      "metadata": {
        "id": "8837119b"
      },
      "source": [
        "#### 19. Tasodifiy sonlardan iborat boʻlgan massiv yaratish, soʻng ularni quyida berilgan 4 xil usul yordamida musbat sonlarning butun qismini ajratib olish."
      ]
    },
    {
      "cell_type": "markdown",
      "source": [
        "`💡Ishora` %, np.floor, astype, np.trunc"
      ],
      "metadata": {
        "id": "2b05c544"
      },
      "id": "2b05c544"
    },
    {
      "cell_type": "code",
      "source": [
        "import numpy as np\n",
        "\n",
        "# Tasodifiy sonlardan iborat massiv (musbat sonlar, 0 dan 10 gacha)\n",
        "arr = np.random.uniform(0, 10, 5)\n",
        "print(\"Asl massiv:\", arr)\n",
        "\n",
        "# 1-usul: %\n",
        "print(\"1-usul (% bilan):\", arr - arr % 1)\n",
        "\n",
        "# 2-usul: np.floor\n",
        "print(\"2-usul (np.floor):\", np.floor(arr))\n",
        "\n",
        "# 3-usul: astype(int)\n",
        "print(\"3-usul (astype(int)):\", arr.astype(int))\n",
        "\n",
        "# 4-usul: np.trunc\n",
        "print(\"4-usul (np.trunc):\", np.trunc(arr))"
      ],
      "metadata": {
        "id": "jc6wN5WWMpS3",
        "outputId": "10860a0a-3ef7-4c82-dcf1-4bb7ad8dee53",
        "colab": {
          "base_uri": "https://localhost:8080/"
        }
      },
      "id": "jc6wN5WWMpS3",
      "execution_count": null,
      "outputs": [
        {
          "output_type": "stream",
          "name": "stdout",
          "text": [
            "Asl massiv: [9.433365   9.04406909 2.37556531 4.55823938 6.728984  ]\n",
            "1-usul (% bilan): [9. 9. 2. 4. 6.]\n",
            "2-usul (np.floor): [9. 9. 2. 4. 6.]\n",
            "3-usul (astype(int)): [9 9 2 4 6]\n",
            "4-usul (np.trunc): [9. 9. 2. 4. 6.]\n"
          ]
        }
      ]
    },
    {
      "cell_type": "markdown",
      "id": "ec788c9f",
      "metadata": {
        "id": "ec788c9f"
      },
      "source": [
        "#### 20. Oʻlchovlari 3x3 matritsa yaratish, ularning qator qiymatlari 0 dan 2 gacha boʻladi.\n",
        "\n"
      ]
    },
    {
      "cell_type": "markdown",
      "source": [
        "`💡Ishora` np.arange"
      ],
      "metadata": {
        "id": "c3980b2c"
      },
      "id": "c3980b2c"
    },
    {
      "cell_type": "code",
      "source": [
        "mat = np.tile(np.arange(3), (3, 1))\n",
        "mat"
      ],
      "metadata": {
        "id": "ycz3jw4bM0Xk",
        "outputId": "62e8d7ae-bed7-4c0f-e92b-8b1b75b10a29",
        "colab": {
          "base_uri": "https://localhost:8080/"
        }
      },
      "id": "ycz3jw4bM0Xk",
      "execution_count": null,
      "outputs": [
        {
          "output_type": "execute_result",
          "data": {
            "text/plain": [
              "array([[0, 1, 2],\n",
              "       [0, 1, 2],\n",
              "       [0, 1, 2]])"
            ]
          },
          "metadata": {},
          "execution_count": 2
        }
      ]
    },
    {
      "cell_type": "markdown",
      "id": "391791e0",
      "metadata": {
        "id": "391791e0"
      },
      "source": [
        "#### 21. Oʻchamlari 10 boʻlgan tasodifiy vektor yaratish va uni oʻsish tartibida chiqaruvchi dastur tuzish.\n",
        "\n"
      ]
    },
    {
      "cell_type": "markdown",
      "source": [
        "`💡Ishora` sort"
      ],
      "metadata": {
        "id": "ada71c06"
      },
      "id": "ada71c06"
    },
    {
      "cell_type": "code",
      "source": [
        "arr = np.random.rand(10)\n",
        "arr"
      ],
      "metadata": {
        "id": "TPMqaavROM7g",
        "outputId": "4236bb22-9e32-4b11-8a82-289c81b36b00",
        "colab": {
          "base_uri": "https://localhost:8080/"
        }
      },
      "id": "TPMqaavROM7g",
      "execution_count": null,
      "outputs": [
        {
          "output_type": "execute_result",
          "data": {
            "text/plain": [
              "array([0.17545177, 0.72536784, 0.92773537, 0.59961757, 0.82816173,\n",
              "       0.52825238, 0.1626429 , 0.26635618, 0.76357972, 0.71592993])"
            ]
          },
          "metadata": {},
          "execution_count": 6
        }
      ]
    },
    {
      "cell_type": "code",
      "source": [
        "arr.sort()\n",
        "arr"
      ],
      "metadata": {
        "id": "ILb4klq6OgYs",
        "outputId": "058219ae-9161-419b-cd23-c7d05b296c2c",
        "colab": {
          "base_uri": "https://localhost:8080/"
        }
      },
      "id": "ILb4klq6OgYs",
      "execution_count": null,
      "outputs": [
        {
          "output_type": "execute_result",
          "data": {
            "text/plain": [
              "array([0.1626429 , 0.17545177, 0.26635618, 0.52825238, 0.59961757,\n",
              "       0.71592993, 0.72536784, 0.76357972, 0.82816173, 0.92773537])"
            ]
          },
          "metadata": {},
          "execution_count": 7
        }
      ]
    },
    {
      "cell_type": "markdown",
      "id": "1e74d39e",
      "metadata": {
        "id": "1e74d39e"
      },
      "source": [
        "#### 22. Ikki tasodifiy A va B massiv yaratish, ularning tengligini tekshirish."
      ]
    },
    {
      "cell_type": "markdown",
      "source": [
        "`💡Ishora` np.allclose, np.array_equal"
      ],
      "metadata": {
        "id": "eb0e066c"
      },
      "id": "eb0e066c"
    },
    {
      "cell_type": "code",
      "source": [
        "A = np.random.rand(3, 3)\n",
        "B = A.copy() + 1e-8  # juda kichik farq\n",
        "\n",
        "print(\"A:\\n\", A)\n",
        "print(\"B:\\n\", B)\n",
        "\n",
        "print(\"np.array_equal(A, B):\", np.array_equal(A, B))\n",
        "\n",
        "print(\"np.allclose(A, B):\", np.allclose(A, B))  # np.allclose – juda kichik farqlar (epsilon) bo‘lsa\n",
        "                                                  # ham yaqin deb hisoblaydi (ya’ni almost equal)."
      ],
      "metadata": {
        "id": "xHNWNZnwOT1r",
        "outputId": "f1989e60-280a-40d6-faf4-cf2abf821379",
        "colab": {
          "base_uri": "https://localhost:8080/"
        }
      },
      "id": "xHNWNZnwOT1r",
      "execution_count": null,
      "outputs": [
        {
          "output_type": "stream",
          "name": "stdout",
          "text": [
            "A:\n",
            " [[0.0657768  0.58184108 0.561797  ]\n",
            " [0.16400097 0.86620353 0.48740945]\n",
            " [0.69336881 0.3455509  0.97081684]]\n",
            "B:\n",
            " [[0.06577681 0.58184109 0.56179701]\n",
            " [0.16400098 0.86620354 0.48740946]\n",
            " [0.69336882 0.34555091 0.97081685]]\n",
            "np.array_equal(A, B): False\n",
            "np.allclose(A, B): True\n"
          ]
        }
      ]
    },
    {
      "cell_type": "markdown",
      "id": "78250c14",
      "metadata": {
        "id": "78250c14"
      },
      "source": [
        "#### 23. Oʻlchamlari 6x3 va 3x4 matritsa tuzish va ularni oʻzaro koʻpaytirish.\n"
      ]
    },
    {
      "cell_type": "markdown",
      "source": [
        "`💡Ishora` np.dot or np.ones"
      ],
      "metadata": {
        "id": "2e482afe"
      },
      "id": "2e482afe"
    },
    {
      "cell_type": "code",
      "source": [
        "A = np.ones((6, 3))\n",
        "B = np.ones((3, 4))\n",
        "C = np.dot(A, B)\n",
        "print(\"A =\", A)\n",
        "print(\"B =\", B)\n",
        "print(\"C =\", C)"
      ],
      "metadata": {
        "id": "ZRlMgdT9POgS",
        "outputId": "599ab905-53c1-4ee9-ecb8-ac1f2a238c7a",
        "colab": {
          "base_uri": "https://localhost:8080/"
        }
      },
      "id": "ZRlMgdT9POgS",
      "execution_count": null,
      "outputs": [
        {
          "output_type": "stream",
          "name": "stdout",
          "text": [
            "A = [[1. 1. 1.]\n",
            " [1. 1. 1.]\n",
            " [1. 1. 1.]\n",
            " [1. 1. 1.]\n",
            " [1. 1. 1.]\n",
            " [1. 1. 1.]]\n",
            "B = [[1. 1. 1. 1.]\n",
            " [1. 1. 1. 1.]\n",
            " [1. 1. 1. 1.]]\n",
            "C = [[3. 3. 3. 3.]\n",
            " [3. 3. 3. 3.]\n",
            " [3. 3. 3. 3.]\n",
            " [3. 3. 3. 3.]\n",
            " [3. 3. 3. 3.]\n",
            " [3. 3. 3. 3.]]\n"
          ]
        }
      ]
    },
    {
      "cell_type": "markdown",
      "id": "51898680",
      "metadata": {
        "id": "51898680"
      },
      "source": [
        "#### 24. Tasodifiy sonlardan iborat boʻlgan oʻlchami 5 ga teng vektor yaratish, soʻng uning eng katta qiymatini 0 ga oʻzgartirish.\n"
      ]
    },
    {
      "cell_type": "markdown",
      "source": [
        "`💡Ishora` argmax"
      ],
      "metadata": {
        "id": "ee92ccaf"
      },
      "id": "ee92ccaf"
    },
    {
      "cell_type": "code",
      "source": [
        "a = np.random.rand(5)\n",
        "print(a)\n",
        "\n",
        "max_index = a.argmax()\n",
        "a[max_index] = 0\n",
        "\n",
        "print(\"1ta max qiymatni 0 ga almashtirildi:\", a)"
      ],
      "metadata": {
        "id": "LTP3Jj1SUCX5",
        "outputId": "bd55d6e5-bb5d-4465-a8ea-b3ae01dbfe7d",
        "colab": {
          "base_uri": "https://localhost:8080/"
        }
      },
      "id": "LTP3Jj1SUCX5",
      "execution_count": null,
      "outputs": [
        {
          "output_type": "stream",
          "name": "stdout",
          "text": [
            "[0.36512057 0.09671186 0.79610272 0.05168926 0.42517684]\n",
            "1ta max qiymatni 0 ga almashtirildi: [0.36512057 0.09671186 0.         0.05168926 0.42517684]\n"
          ]
        }
      ]
    },
    {
      "cell_type": "markdown",
      "id": "129c342d",
      "metadata": {
        "id": "129c342d"
      },
      "source": [
        "#### 25. NumPy kutubxonasi yordamida kecha, bugun va ertangi kun sanalarini aniqlash.\n"
      ]
    },
    {
      "cell_type": "markdown",
      "source": [
        "`💡Ishora` np.datetime64, np.timedelta64"
      ],
      "metadata": {
        "id": "0fd2f947"
      },
      "id": "0fd2f947"
    },
    {
      "cell_type": "code",
      "source": [
        "bugun = np.datetime64('today')\n",
        "kecha = bugun - np.timedelta64(1, 'D')\n",
        "ertaga = bugun + np.timedelta64(1, 'D')\n",
        "\n",
        "print(\"Kecha:\", kecha)\n",
        "print(\"Bugun:\", bugun)\n",
        "print(\"Ertaga:\", ertaga)"
      ],
      "metadata": {
        "id": "dlljRGxkSitd",
        "outputId": "c468bcea-4841-4529-b0dc-889ebe562e28",
        "colab": {
          "base_uri": "https://localhost:8080/"
        }
      },
      "id": "dlljRGxkSitd",
      "execution_count": null,
      "outputs": [
        {
          "output_type": "stream",
          "name": "stdout",
          "text": [
            "Kecha: 2025-07-20\n",
            "Bugun: 2025-07-21\n",
            "Ertaga: 2025-07-22\n"
          ]
        }
      ]
    },
    {
      "cell_type": "markdown",
      "id": "42f8b2f9",
      "metadata": {
        "id": "42f8b2f9"
      },
      "source": [
        "#### 26. 2016 yil yanvar oyiga toʻgʻri keladigan barcha sanalarni NumPy kutubxonasi yordamida aniqlash.\n"
      ]
    },
    {
      "cell_type": "markdown",
      "source": [
        "`💡Ishora` np.arange(dtype=datetime64['D'])"
      ],
      "metadata": {
        "id": "SU1BWcA8Sw2M"
      },
      "id": "SU1BWcA8Sw2M"
    },
    {
      "cell_type": "code",
      "execution_count": null,
      "id": "5ad086b0",
      "metadata": {
        "id": "5ad086b0",
        "outputId": "bb7a41c4-cc38-40d6-e1e3-74fd04b179d7",
        "colab": {
          "base_uri": "https://localhost:8080/"
        }
      },
      "outputs": [
        {
          "output_type": "stream",
          "name": "stdout",
          "text": [
            "2016-yil yanvar sanalari:\n",
            "['2016-01-01' '2016-01-02' '2016-01-03' '2016-01-04' '2016-01-05'\n",
            " '2016-01-06' '2016-01-07' '2016-01-08' '2016-01-09' '2016-01-10'\n",
            " '2016-01-11' '2016-01-12' '2016-01-13' '2016-01-14' '2016-01-15'\n",
            " '2016-01-16' '2016-01-17' '2016-01-18' '2016-01-19' '2016-01-20'\n",
            " '2016-01-21' '2016-01-22' '2016-01-23' '2016-01-24' '2016-01-25'\n",
            " '2016-01-26' '2016-01-27' '2016-01-28' '2016-01-29' '2016-01-30'\n",
            " '2016-01-31']\n"
          ]
        }
      ],
      "source": [
        "yanvar_sanalar = np.arange('2016-01', '2016-02', dtype='datetime64[D]')\n",
        "print(\"2016-yil yanvar sanalari:\")\n",
        "print(yanvar_sanalar)"
      ]
    },
    {
      "cell_type": "markdown",
      "id": "486df8ea",
      "metadata": {
        "id": "486df8ea"
      },
      "source": [
        "#### 27. 4 xil usul yordamida musbat sonlarning tasodifiy massivining butun son qismini ajratib olish.\n"
      ]
    },
    {
      "cell_type": "markdown",
      "source": [
        "`💡Ishora` %, np.floor, astype, np.trunc`"
      ],
      "metadata": {
        "id": "h4QM3bp9TDhb"
      },
      "id": "h4QM3bp9TDhb"
    },
    {
      "cell_type": "code",
      "execution_count": null,
      "id": "2680c1ca",
      "metadata": {
        "id": "2680c1ca",
        "outputId": "210e9315-6eb1-42e5-a497-9e92171b2c60",
        "colab": {
          "base_uri": "https://localhost:8080/"
        }
      },
      "outputs": [
        {
          "output_type": "stream",
          "name": "stdout",
          "text": [
            "Asl massiv: [1.87215015 0.35391732 4.65522135 3.62531793 4.0978395 ]\n",
            "1-usul (% bilan): [1. 0. 4. 3. 4.]\n",
            "2-usul (np.floor): [1. 0. 4. 3. 4.]\n",
            "3-usul (astype(int)): [1 0 4 3 4]\n",
            "4-usul (np.trunc): [1. 0. 4. 3. 4.]\n"
          ]
        }
      ],
      "source": [
        "import numpy as np\n",
        "\n",
        "# Tasodifiy sonlardan iborat massiv (musbat sonlar, 0 dan 10 gacha)\n",
        "arr = np.random.uniform(0, 10, 5)\n",
        "print(\"Asl massiv:\", arr)\n",
        "\n",
        "# 1-usul: %\n",
        "print(\"1-usul (% bilan):\", arr - arr % 1)\n",
        "\n",
        "# 2-usul: np.floor\n",
        "print(\"2-usul (np.floor):\", np.floor(arr))\n",
        "\n",
        "# 3-usul: astype(int)\n",
        "print(\"3-usul (astype(int)):\", arr.astype(int))\n",
        "\n",
        "# 4-usul: np.trunc\n",
        "print(\"4-usul (np.trunc):\", np.trunc(arr))"
      ]
    },
    {
      "cell_type": "markdown",
      "id": "6415f02e",
      "metadata": {
        "id": "6415f02e"
      },
      "source": [
        "28. Ixtiyoriy kichik massivlar yaratish, ular yigʻindisini `np.sum` funksiyasidanda tezroq hisoblovchi dastur tuzish.\n"
      ]
    },
    {
      "cell_type": "markdown",
      "source": [
        "`💡Ishora` np.add.reduce"
      ],
      "metadata": {
        "id": "129e785f"
      },
      "id": "129e785f"
    },
    {
      "cell_type": "code",
      "source": [
        "a = np.array([1, 2, 3, 4, 5])\n",
        "\n",
        "# Oddiy yig'indi\n",
        "print(\"np.sum:\", np.sum(a))\n"
      ],
      "metadata": {
        "id": "M0Xv2bB9VYQZ",
        "outputId": "10d47eb3-c253-4141-858a-ae4644f34741",
        "colab": {
          "base_uri": "https://localhost:8080/"
        }
      },
      "id": "M0Xv2bB9VYQZ",
      "execution_count": null,
      "outputs": [
        {
          "output_type": "stream",
          "name": "stdout",
          "text": [
            "np.sum: 15\n"
          ]
        }
      ]
    },
    {
      "cell_type": "code",
      "source": [
        "# Tezroq usul - reduce orqali\n",
        "np.add.reduce(a)\n"
      ],
      "metadata": {
        "id": "-pA5gtsyWV5C",
        "outputId": "7576576b-de56-46c4-da09-3b09c36cc75f",
        "colab": {
          "base_uri": "https://localhost:8080/"
        }
      },
      "id": "-pA5gtsyWV5C",
      "execution_count": null,
      "outputs": [
        {
          "output_type": "execute_result",
          "data": {
            "text/plain": [
              "np.int64(15)"
            ]
          },
          "metadata": {},
          "execution_count": 31
        }
      ]
    },
    {
      "cell_type": "markdown",
      "id": "58be9dd4",
      "metadata": {
        "id": "58be9dd4"
      },
      "source": [
        "#### 29. [1, 2, 3, 4, 5] vektor berilgan, har bir qiymat orasiga ketma-ket 3 ta nol raqamini yozuvchi dastur tuzish.\n"
      ]
    },
    {
      "cell_type": "markdown",
      "source": [
        "`💡Ishora` array[::4]"
      ],
      "metadata": {
        "id": "9cf9e134"
      },
      "id": "9cf9e134"
    },
    {
      "cell_type": "code",
      "source": [
        "a = np.array([1, 2, 3, 4, 5])\n",
        "\n",
        "result = np.zeros(len(a) + (len(a)-1)*3, dtype=int)\n",
        "\n",
        "result[::4] = a\n",
        "\n",
        "print(\"Natija:\", result)"
      ],
      "metadata": {
        "id": "04IuJ2jaZeYu",
        "outputId": "26f1d5b2-e7e5-4e6a-f588-6bc3970b96af",
        "colab": {
          "base_uri": "https://localhost:8080/"
        }
      },
      "id": "04IuJ2jaZeYu",
      "execution_count": null,
      "outputs": [
        {
          "output_type": "stream",
          "name": "stdout",
          "text": [
            "Natija: [1 0 0 0 2 0 0 0 3 0 0 0 4 0 0 0 5]\n"
          ]
        }
      ]
    },
    {
      "cell_type": "markdown",
      "id": "781fa236",
      "metadata": {
        "id": "781fa236"
      },
      "source": [
        "#### 30. Quyidagi `a` massiv berilgan, a = [1,2,3,4,5,6,7,8,9,10,11,12,13,14] undan foydalangan holda `b` massivni yarata olamizmi, b = [[1,2,3,4], [2,3,4,5], [3,4,5,6], ..., [11,12,13,14]]?"
      ]
    },
    {
      "cell_type": "markdown",
      "source": [
        "`💡Ishora` stride_tricks.as_strided"
      ],
      "metadata": {
        "id": "82e3d17e"
      },
      "id": "82e3d17e"
    },
    {
      "cell_type": "code",
      "source": [
        "a = np.array([1,2,3,4,5,6,7,8,9,10,11,12,13,14])\n",
        "a"
      ],
      "metadata": {
        "id": "S1H6ivCua3NZ",
        "outputId": "2e7981c8-7bb7-4b73-a2b5-9665fcb04f16",
        "colab": {
          "base_uri": "https://localhost:8080/"
        }
      },
      "id": "S1H6ivCua3NZ",
      "execution_count": null,
      "outputs": [
        {
          "output_type": "execute_result",
          "data": {
            "text/plain": [
              "array([ 1,  2,  3,  4,  5,  6,  7,  8,  9, 10, 11, 12, 13, 14])"
            ]
          },
          "metadata": {},
          "execution_count": 33
        }
      ]
    },
    {
      "cell_type": "code",
      "source": [
        "from numpy.lib.stride_tricks import as_strided\n",
        "\n",
        "a = np.array([1,2,3,4,5,6,7,8,9,10,11,12,13,14])\n",
        "window_size = 4\n",
        "\n",
        "# Har bir element hajmi (baytda)\n",
        "stride = a.strides[0]\n",
        "\n",
        "# Yangi shakl va strides\n",
        "b = as_strided(a, shape=(len(a)-window_size+1, window_size), strides=(stride, stride))\n",
        "\n",
        "print(\"b matritsa:\\n\", b)"
      ],
      "metadata": {
        "id": "VwurAYanYWsa",
        "outputId": "79a49bd4-14db-4035-d228-7df03e9a87bf",
        "colab": {
          "base_uri": "https://localhost:8080/"
        }
      },
      "id": "VwurAYanYWsa",
      "execution_count": 3,
      "outputs": [
        {
          "output_type": "stream",
          "name": "stdout",
          "text": [
            "b matritsa:\n",
            " [[ 1  2  3  4]\n",
            " [ 2  3  4  5]\n",
            " [ 3  4  5  6]\n",
            " [ 4  5  6  7]\n",
            " [ 5  6  7  8]\n",
            " [ 6  7  8  9]\n",
            " [ 7  8  9 10]\n",
            " [ 8  9 10 11]\n",
            " [ 9 10 11 12]\n",
            " [10 11 12 13]\n",
            " [11 12 13 14]]\n"
          ]
        }
      ]
    },
    {
      "cell_type": "markdown",
      "id": "7d8dc135",
      "metadata": {
        "id": "7d8dc135"
      },
      "source": [
        "#### 31. Ixtiyoriy sonlardan tashkil topgan massiv yaratish, unga oʻxshash qiymatlar kiritish. Soʻng, oʻxshash qiymatlarni topuvchi dastur tuzish.\n"
      ]
    },
    {
      "cell_type": "markdown",
      "source": [
        "`💡Ishora` np.bincount, argmax"
      ],
      "metadata": {
        "id": "81844e99"
      },
      "id": "81844e99"
    },
    {
      "cell_type": "code",
      "source": [
        "arr = np.array([4, 7, 2, 7, 9, 4, 3, 2, 2])\n",
        "\n",
        "# Har bir qiymat necha marta qatnashganini hisoblaydi (indekslar sonlarning o‘zlari bo‘ladi)\n",
        "counts = np.bincount(arr)\n",
        "\n",
        "# Eng ko‘p uchragan qiymatni topamiz\n",
        "most_common = np.argmax(counts)\n",
        "\n",
        "print(\"Eng ko‘p uchragan qiymat:\", most_common)\n",
        "print(\"Necha marta:\", counts[most_common])"
      ],
      "metadata": {
        "id": "SiRaNwxjbaQN",
        "outputId": "9ea5dd65-0e02-4eab-9892-56ee4f1ab05e",
        "colab": {
          "base_uri": "https://localhost:8080/"
        }
      },
      "id": "SiRaNwxjbaQN",
      "execution_count": null,
      "outputs": [
        {
          "output_type": "stream",
          "name": "stdout",
          "text": [
            "Eng ko‘p uchragan qiymat: 2\n",
            "Necha marta: 3\n"
          ]
        }
      ]
    }
  ],
  "metadata": {
    "hide_input": false,
    "kernelspec": {
      "display_name": "Python 3",
      "language": "python",
      "name": "python3"
    },
    "language_info": {
      "codemirror_mode": {
        "name": "ipython",
        "version": 3
      },
      "file_extension": ".py",
      "mimetype": "text/x-python",
      "name": "python",
      "nbconvert_exporter": "python",
      "pygments_lexer": "ipython3",
      "version": "3.8.8"
    },
    "toc": {
      "base_numbering": 1,
      "nav_menu": {},
      "number_sections": true,
      "sideBar": true,
      "skip_h1_title": false,
      "title_cell": "Table of Contents",
      "title_sidebar": "Contents",
      "toc_cell": false,
      "toc_position": {},
      "toc_section_display": true,
      "toc_window_display": false
    },
    "varInspector": {
      "cols": {
        "lenName": 16,
        "lenType": 16,
        "lenVar": 40
      },
      "kernels_config": {
        "python": {
          "delete_cmd_postfix": "",
          "delete_cmd_prefix": "del ",
          "library": "var_list.py",
          "varRefreshCmd": "print(var_dic_list())"
        },
        "r": {
          "delete_cmd_postfix": ") ",
          "delete_cmd_prefix": "rm(",
          "library": "var_list.r",
          "varRefreshCmd": "cat(var_dic_list()) "
        }
      },
      "types_to_exclude": [
        "module",
        "function",
        "builtin_function_or_method",
        "instance",
        "_Feature"
      ],
      "window_display": false
    },
    "colab": {
      "provenance": []
    }
  },
  "nbformat": 4,
  "nbformat_minor": 5
}
